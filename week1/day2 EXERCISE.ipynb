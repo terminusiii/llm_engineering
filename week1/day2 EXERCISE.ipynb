{
 "cells": [
  {
   "cell_type": "markdown",
   "id": "d15d8294-3328-4e07-ad16-8a03e9bbfdb9",
   "metadata": {},
   "source": [
    "# Welcome to your first assignment!\n",
    "\n",
    "Instructions are below. Please give this a try, and look in the solutions folder if you get stuck (or feel free to ask me!)"
   ]
  },
  {
   "cell_type": "markdown",
   "id": "ada885d9-4d42-4d9b-97f0-74fbbbfe93a9",
   "metadata": {},
   "source": [
    "<table style=\"margin: 0; text-align: left;\">\n",
    "    <tr>\n",
    "        <td style=\"width: 150px; height: 150px; vertical-align: middle;\">\n",
    "            <img src=\"../resources.jpg\" width=\"150\" height=\"150\" style=\"display: block;\" />\n",
    "        </td>\n",
    "        <td>\n",
    "            <h2 style=\"color:#f71;\">Just before we get to the assignment --</h2>\n",
    "            <span style=\"color:#f71;\">I thought I'd take a second to point you at this page of useful resources for the course. This includes links to all the slides.<br/>\n",
    "            <a href=\"https://edwarddonner.com/2024/11/13/llm-engineering-resources/\">https://edwarddonner.com/2024/11/13/llm-engineering-resources/</a><br/>\n",
    "            Please keep this bookmarked, and I'll continue to add more useful links there over time.\n",
    "            </span>\n",
    "        </td>\n",
    "    </tr>\n",
    "</table>"
   ]
  },
  {
   "cell_type": "markdown",
   "id": "6e9fa1fc-eac5-4d1d-9be4-541b3f2b3458",
   "metadata": {},
   "source": [
    "# HOMEWORK EXERCISE ASSIGNMENT\n",
    "\n",
    "Upgrade the day 1 project to summarize a webpage to use an Open Source model running locally via Ollama rather than OpenAI\n",
    "\n",
    "You'll be able to use this technique for all subsequent projects if you'd prefer not to use paid APIs.\n",
    "\n",
    "**Benefits:**\n",
    "1. No API charges - open-source\n",
    "2. Data doesn't leave your box\n",
    "\n",
    "**Disadvantages:**\n",
    "1. Significantly less power than Frontier Model\n",
    "\n",
    "## Recap on installation of Ollama\n",
    "\n",
    "Simply visit [ollama.com](https://ollama.com) and install!\n",
    "\n",
    "Once complete, the ollama server should already be running locally.  \n",
    "If you visit:  \n",
    "[http://localhost:11434/](http://localhost:11434/)\n",
    "\n",
    "You should see the message `Ollama is running`.  \n",
    "\n",
    "If not, bring up a new Terminal (Mac) or Powershell (Windows) and enter `ollama serve`  \n",
    "And in another Terminal (Mac) or Powershell (Windows), enter `ollama pull llama3.2`  \n",
    "Then try [http://localhost:11434/](http://localhost:11434/) again.\n",
    "\n",
    "If Ollama is slow on your machine, try using `llama3.2:1b` as an alternative. Run `ollama pull llama3.2:1b` from a Terminal or Powershell, and change the code below from `MODEL = \"llama3.2\"` to `MODEL = \"llama3.2:1b\"`"
   ]
  },
  {
   "cell_type": "code",
   "execution_count": 1,
   "id": "4e2a9393-7767-488e-a8bf-27c12dca35bd",
   "metadata": {},
   "outputs": [],
   "source": [
    "# imports\n",
    "\n",
    "import requests\n",
    "from bs4 import BeautifulSoup\n",
    "from IPython.display import Markdown, display"
   ]
  },
  {
   "cell_type": "code",
   "execution_count": 2,
   "id": "29ddd15d-a3c5-4f4e-a678-873f56162724",
   "metadata": {},
   "outputs": [],
   "source": [
    "# Constants\n",
    "\n",
    "OLLAMA_API = \"http://localhost:11434/api/chat\"\n",
    "HEADERS = {\"Content-Type\": \"application/json\"}\n",
    "MODEL = \"llama3.2\""
   ]
  },
  {
   "cell_type": "code",
   "execution_count": 3,
   "id": "dac0a679-599c-441f-9bf2-ddc73d35b940",
   "metadata": {},
   "outputs": [],
   "source": [
    "# Create a messages list using the same format that we used for OpenAI\n",
    "\n",
    "messages = [\n",
    "    {\"role\": \"user\", \"content\": \"Describe some of the business applications of Generative AI\"}\n",
    "]"
   ]
  },
  {
   "cell_type": "code",
   "execution_count": 4,
   "id": "7bb9c624-14f0-4945-a719-8ddb64f66f47",
   "metadata": {},
   "outputs": [],
   "source": [
    "payload = {\n",
    "        \"model\": MODEL,\n",
    "        \"messages\": messages,\n",
    "        \"stream\": False\n",
    "    }"
   ]
  },
  {
   "cell_type": "code",
   "execution_count": 5,
   "id": "479ff514-e8bd-4985-a572-2ea28bb4fa40",
   "metadata": {},
   "outputs": [
    {
     "name": "stderr",
     "output_type": "stream",
     "text": [
      "\u001b[?2026h\u001b[?25l\u001b[1G\u001b[?25h\u001b[?2026l\u001b[?2026h\u001b[?25l\u001b[1Gpulling manifest â ‹ \u001b[K\u001b[?25h\u001b[?2026l\u001b[?2026h\u001b[?25l\u001b[1Gpulling manifest â ™ \u001b[K\u001b[?25h\u001b[?2026l\u001b[?2026h\u001b[?25l\u001b[1Gpulling manifest â ¹ \u001b[K\u001b[?25h\u001b[?2026l\u001b[?2026h\u001b[?25l\u001b[1Gpulling manifest â ¸ \u001b[K\u001b[?25h\u001b[?2026l\u001b[?2026h\u001b[?25l\u001b[1Gpulling manifest â ¼ \u001b[K\u001b[?25h\u001b[?2026l\u001b[?2026h\u001b[?25l\u001b[1Gpulling manifest â ´ \u001b[K\u001b[?25h\u001b[?2026l\u001b[?2026h\u001b[?25l\u001b[1Gpulling manifest â ¦ \u001b[K\u001b[?25h\u001b[?2026l\u001b[?2026h\u001b[?25l\u001b[1Gpulling manifest â § \u001b[K\u001b[?25h\u001b[?2026l\u001b[?2026h\u001b[?25l\u001b[1Gpulling manifest \u001b[K\n",
      "pulling dde5aa3fc5ff... 100% â–•â–ˆâ–ˆâ–ˆâ–ˆâ–ˆâ–ˆâ–ˆâ–ˆâ–ˆâ–ˆâ–ˆâ–ˆâ–ˆâ–ˆâ–ˆâ–ˆâ–� 2.0 GB                         \u001b[K\n",
      "pulling 966de95ca8a6... 100% â–•â–ˆâ–ˆâ–ˆâ–ˆâ–ˆâ–ˆâ–ˆâ–ˆâ–ˆâ–ˆâ–ˆâ–ˆâ–ˆâ–ˆâ–ˆâ–ˆâ–� 1.4 KB                         \u001b[K\n",
      "pulling fcc5a6bec9da... 100% â–•â–ˆâ–ˆâ–ˆâ–ˆâ–ˆâ–ˆâ–ˆâ–ˆâ–ˆâ–ˆâ–ˆâ–ˆâ–ˆâ–ˆâ–ˆâ–ˆâ–� 7.7 KB                         \u001b[K\n",
      "pulling a70ff7e570d9... 100% â–•â–ˆâ–ˆâ–ˆâ–ˆâ–ˆâ–ˆâ–ˆâ–ˆâ–ˆâ–ˆâ–ˆâ–ˆâ–ˆâ–ˆâ–ˆâ–ˆâ–� 6.0 KB                         \u001b[K\n",
      "pulling 56bb8bd477a5... 100% â–•â–ˆâ–ˆâ–ˆâ–ˆâ–ˆâ–ˆâ–ˆâ–ˆâ–ˆâ–ˆâ–ˆâ–ˆâ–ˆâ–ˆâ–ˆâ–ˆâ–�   96 B                         \u001b[K\n",
      "pulling 34bb5ab01051... 100% â–•â–ˆâ–ˆâ–ˆâ–ˆâ–ˆâ–ˆâ–ˆâ–ˆâ–ˆâ–ˆâ–ˆâ–ˆâ–ˆâ–ˆâ–ˆâ–ˆâ–�  561 B                         \u001b[K\n",
      "verifying sha256 digest \u001b[K\n",
      "writing manifest \u001b[K\n",
      "success \u001b[K\u001b[?25h\u001b[?2026l\n"
     ]
    }
   ],
   "source": [
    "# Let's just make sure the model is loaded\n",
    "\n",
    "!ollama pull llama3.2"
   ]
  },
  {
   "cell_type": "code",
   "execution_count": 6,
   "id": "42b9f644-522d-4e05-a691-56e7658c0ea9",
   "metadata": {},
   "outputs": [
    {
     "name": "stdout",
     "output_type": "stream",
     "text": [
      "Generative AI has numerous business applications across various industries. Here are some examples:\n",
      "\n",
      "1. **Content Generation**: Generative AI can be used to generate high-quality content such as blog posts, social media posts, product descriptions, and even entire books. This can help businesses save time and resources on content creation.\n",
      "2. **Product Design and Development**: Generative AI can be used to design and develop new products by generating 3D models, prototypes, and even entire product lines. This can help businesses speed up the product development process and reduce costs.\n",
      "3. **Marketing Automation**: Generative AI can be used to automate marketing tasks such as email campaigns, social media ads, and personalized messages. This can help businesses personalize their marketing efforts and improve customer engagement.\n",
      "4. **Customer Service**: Generative AI-powered chatbots can be used to provide 24/7 customer support and answer common customer questions. This can help businesses reduce the workload on human customer support agents and improve customer satisfaction.\n",
      "5. **Data Analysis and Visualization**: Generative AI can be used to analyze large datasets and generate visualizations such as charts, graphs, and heat maps. This can help businesses gain insights into their data and make informed business decisions.\n",
      "6. **Predictive Maintenance**: Generative AI can be used to predict equipment failures and schedule maintenance. This can help businesses reduce downtime, improve efficiency, and extend the lifespan of their equipment.\n",
      "7. **Financial Modeling**: Generative AI can be used to build financial models and simulate different scenarios. This can help businesses make informed investment decisions and mitigate risk.\n",
      "8. **Cybersecurity**: Generative AI can be used to detect and respond to cyber threats in real-time. This can help businesses protect their networks, systems, and data from cyber attacks.\n",
      "9. **Supply Chain Optimization**: Generative AI can be used to optimize supply chain operations by predicting demand, managing inventory, and streamlining logistics. This can help businesses improve efficiency, reduce costs, and enhance customer satisfaction.\n",
      "10. **Business Planning and Strategy**: Generative AI can be used to generate business plans, identify market opportunities, and develop strategic recommendations. This can help businesses make informed decisions and stay competitive in their markets.\n",
      "\n",
      "Some of the key industries that are adopting generative AI include:\n",
      "\n",
      "1. **Retail**: Generative AI is being used to personalize customer experiences, optimize inventory management, and improve supply chain operations.\n",
      "2. **Finance**: Generative AI is being used to build financial models, detect fraud, and automate compliance tasks.\n",
      "3. **Healthcare**: Generative AI is being used to develop new treatments, diagnose diseases, and personalize patient care.\n",
      "4. **Manufacturing**: Generative AI is being used to optimize production processes, predict maintenance needs, and improve product design.\n",
      "5. **Marketing**: Generative AI is being used to automate marketing tasks, personalize customer experiences, and improve social media engagement.\n",
      "\n",
      "Overall, generative AI has the potential to transform businesses across various industries by increasing efficiency, improving decision-making, and enhancing customer experiences.\n"
     ]
    }
   ],
   "source": [
    "# If this doesn't work for any reason, try the 2 versions in the following cells\n",
    "# And double check the instructions in the 'Recap on installation of Ollama' at the top of this lab\n",
    "# And if none of that works - contact me!\n",
    "\n",
    "response = requests.post(OLLAMA_API, json=payload, headers=HEADERS)\n",
    "print(response.json()['message']['content'])"
   ]
  },
  {
   "cell_type": "markdown",
   "id": "6a021f13-d6a1-4b96-8e18-4eae49d876fe",
   "metadata": {},
   "source": [
    "# Introducing the ollama package\n",
    "\n",
    "And now we'll do the same thing, but using the elegant ollama python package instead of a direct HTTP call.\n",
    "\n",
    "Under the hood, it's making the same call as above to the ollama server running at localhost:11434"
   ]
  },
  {
   "cell_type": "code",
   "execution_count": 7,
   "id": "7745b9c4-57dc-4867-9180-61fa5db55eb8",
   "metadata": {},
   "outputs": [
    {
     "name": "stdout",
     "output_type": "stream",
     "text": [
      "Generative AI has numerous business applications across various industries, including:\n",
      "\n",
      "1. **Content Creation**: AI-generated content, such as text, images, and videos, can be used to create engaging marketing materials, product descriptions, and social media posts.\n",
      "2. **Personalization**: Generative AI can help personalize customer experiences by generating customized product recommendations, offers, and personalized communications based on individual user behavior and preferences.\n",
      "3. **Automated Content Writing**: AI-powered content writing tools can automate the creation of blog posts, articles, and other written content, freeing up human writers to focus on high-level creative work.\n",
      "4. **Image and Video Editing**: Generative AI can be used for image editing, such as removing backgrounds, applying filters, and creating composite images.\n",
      "5. **Marketing Automation**: AI-generated content and personalized marketing campaigns can help automate marketing efforts, reducing the need for manual data entry and improving customer engagement.\n",
      "6. **Customer Service Chatbots**: Generative AI-powered chatbots can provide 24/7 customer support, answering common questions and routing complex issues to human representatives.\n",
      "7. **Product Design**: AI-generated designs can be used to create prototypes, optimize product layouts, and generate new design concepts for products.\n",
      "8. **Predictive Analytics**: Generative AI can help analyze large datasets and make predictions about future trends, demand, and customer behavior, enabling businesses to make data-driven decisions.\n",
      "9. **Supply Chain Optimization**: AI-generated analytics can help identify bottlenecks in supply chains, optimize logistics, and predict demand for inventory management.\n",
      "10. **Music and Audio Production**: Generative AI can be used to create original music tracks, generate sound effects, and even compose entire musical pieces.\n",
      "\n",
      "Some specific business applications of Generative AI include:\n",
      "\n",
      "*   **Virtual Product Design**: Companies like IKEA use generative design tools to create new product designs and prototypes.\n",
      "*   **Automated Content Generation**: Brands like Coca-Cola and Procter & Gamble use AI-powered content generation tools to produce high-quality content.\n",
      "*   **Personalized Product Recommendations**: Online retailers like Amazon and Walmart use generative AI to provide personalized product recommendations to customers.\n",
      "*   **Chatbot-Powered Customer Support**: Companies like Zendesk and Freshdesk use AI-generated chatbots to provide 24/7 customer support.\n",
      "\n",
      "These are just a few examples of the many business applications of Generative AI. As the technology continues to evolve, we can expect to see even more innovative uses of generative AI in various industries.\n"
     ]
    }
   ],
   "source": [
    "import ollama\n",
    "\n",
    "response = ollama.chat(model=MODEL, messages=messages)\n",
    "print(response['message']['content'])"
   ]
  },
  {
   "cell_type": "markdown",
   "id": "a4704e10-f5fb-4c15-a935-f046c06fb13d",
   "metadata": {},
   "source": [
    "## Alternative approach - using OpenAI python library to connect to Ollama"
   ]
  },
  {
   "cell_type": "code",
   "execution_count": null,
   "id": "23057e00-b6fc-4678-93a9-6b31cb704bff",
   "metadata": {},
   "outputs": [],
   "source": [
    "# There's actually an alternative approach that some people might prefer\n",
    "# You can use the OpenAI client python library to call Ollama:\n",
    "\n",
    "from openai import OpenAI\n",
    "ollama_via_openai = OpenAI(base_url='http://localhost:11434/v1', api_key='ollama')\n",
    "\n",
    "response = ollama_via_openai.chat.completions.create(\n",
    "    model=MODEL,\n",
    "    messages=messages\n",
    ")\n",
    "\n",
    "print(response.choices[0].message.content)"
   ]
  },
  {
   "cell_type": "markdown",
   "id": "bc7d1de3-e2ac-46ff-a302-3b4ba38c4c90",
   "metadata": {},
   "source": [
    "## Also trying the amazing reasoning model DeepSeek\n",
    "\n",
    "Here we use the version of DeepSeek-reasoner that's been distilled to 1.5B.  \n",
    "This is actually a 1.5B variant of Qwen that has been fine-tuned using synethic data generated by Deepseek R1.\n",
    "\n",
    "Other sizes of DeepSeek are [here](https://ollama.com/library/deepseek-r1) all the way up to the full 671B parameter version, which would use up 404GB of your drive and is far too large for most!"
   ]
  },
  {
   "cell_type": "code",
   "execution_count": null,
   "id": "cf9eb44e-fe5b-47aa-b719-0bb63669ab3d",
   "metadata": {},
   "outputs": [],
   "source": [
    "!ollama pull deepseek-r1:1.5b"
   ]
  },
  {
   "cell_type": "code",
   "execution_count": null,
   "id": "1d3d554b-e00d-4c08-9300-45e073950a76",
   "metadata": {},
   "outputs": [],
   "source": [
    "# This may take a few minutes to run! You should then see a fascinating \"thinking\" trace inside <think> tags, followed by some decent definitions\n",
    "\n",
    "response = ollama_via_openai.chat.completions.create(\n",
    "    model=\"deepseek-r1:1.5b\",\n",
    "    messages=[{\"role\": \"user\", \"content\": \"Please give definitions of some core concepts behind LLMs: a neural network, attention and the transformer\"}]\n",
    ")\n",
    "\n",
    "print(response.choices[0].message.content)"
   ]
  },
  {
   "cell_type": "markdown",
   "id": "1622d9bb-5c68-4d4e-9ca4-b492c751f898",
   "metadata": {},
   "source": [
    "# NOW the exercise for you\n",
    "\n",
    "Take the code from day1 and incorporate it here, to build a website summarizer that uses Llama 3.2 running locally instead of OpenAI; use either of the above approaches."
   ]
  },
  {
   "cell_type": "code",
   "execution_count": 9,
   "id": "6de38216-6d1c-48c4-877b-86d403f4e0f8",
   "metadata": {},
   "outputs": [
    {
     "name": "stderr",
     "output_type": "stream",
     "text": [
      "\u001b[?2026h\u001b[?25l\u001b[1Gpulling manifest â ‹ \u001b[K\u001b[?25h\u001b[?2026l\u001b[?2026h\u001b[?25l\u001b[1Gpulling manifest â ™ \u001b[K\u001b[?25h\u001b[?2026l\u001b[?2026h\u001b[?25l\u001b[1Gpulling manifest â ¹ \u001b[K\u001b[?25h\u001b[?2026l\u001b[?2026h\u001b[?25l\u001b[1Gpulling manifest â ¸ \u001b[K\u001b[?25h\u001b[?2026l\u001b[?2026h\u001b[?25l\u001b[1Gpulling manifest â ¼ \u001b[K\u001b[?25h\u001b[?2026l\u001b[?2026h\u001b[?25l\u001b[1Gpulling manifest â ´ \u001b[K\u001b[?25h\u001b[?2026l\u001b[?2026h\u001b[?25l\u001b[1Gpulling manifest \u001b[K\n",
      "pulling aabd4debf0c8... 100% â–•â–ˆâ–ˆâ–ˆâ–ˆâ–ˆâ–ˆâ–ˆâ–ˆâ–ˆâ–ˆâ–ˆâ–ˆâ–ˆâ–ˆâ–ˆâ–ˆâ–� 1.1 GB                         \u001b[K\n",
      "pulling 369ca498f347... 100% â–•â–ˆâ–ˆâ–ˆâ–ˆâ–ˆâ–ˆâ–ˆâ–ˆâ–ˆâ–ˆâ–ˆâ–ˆâ–ˆâ–ˆâ–ˆâ–ˆâ–�  387 B                         \u001b[K\n",
      "pulling 6e4c38e1172f... 100% â–•â–ˆâ–ˆâ–ˆâ–ˆâ–ˆâ–ˆâ–ˆâ–ˆâ–ˆâ–ˆâ–ˆâ–ˆâ–ˆâ–ˆâ–ˆâ–ˆâ–� 1.1 KB                         \u001b[K\n",
      "pulling f4d24e9138dd... 100% â–•â–ˆâ–ˆâ–ˆâ–ˆâ–ˆâ–ˆâ–ˆâ–ˆâ–ˆâ–ˆâ–ˆâ–ˆâ–ˆâ–ˆâ–ˆâ–ˆâ–�  148 B                         \u001b[K\n",
      "pulling a85fe2a2e58e... 100% â–•â–ˆâ–ˆâ–ˆâ–ˆâ–ˆâ–ˆâ–ˆâ–ˆâ–ˆâ–ˆâ–ˆâ–ˆâ–ˆâ–ˆâ–ˆâ–ˆâ–�  487 B                         \u001b[K\n",
      "verifying sha256 digest \u001b[K\n",
      "writing manifest \u001b[K\n",
      "success \u001b[K\u001b[?25h\u001b[?2026l\n"
     ]
    },
    {
     "name": "stdout",
     "output_type": "stream",
     "text": [
      "<think>\n",
      "\n",
      "</think>\n",
      "\n",
      "Hi there! I'm an AI assistant here to help with your questions and tasks. How can I assist you today? 😊\n"
     ]
    }
   ],
   "source": [
    "\n",
    "import requests\n",
    "from bs4 import BeautifulSoup\n",
    "from IPython.display import Markdown, display\n",
    "\n",
    "# Constants\n",
    "\n",
    "OLLAMA_API = \"http://localhost:11434/api/chat\"\n",
    "HEADERS = {\"Content-Type\": \"application/json\"}\n",
    "#MODEL = \"llama3.2\"\n",
    "MODEL = \"deepseek-r1:1.5b\"\n",
    "\n",
    "# Create a messages list using the same format that we used for OpenAI\n",
    "\n",
    "messages = [\n",
    "    {\"role\": \"user\", \"content\": \"Hello, GPT! This is my first ever message to you! Hi!\"}\n",
    "]\n",
    "\n",
    "payload = {\n",
    "        \"model\": MODEL,\n",
    "        \"messages\": messages,\n",
    "        \"stream\": False\n",
    "    }\n",
    "\n",
    "# Let's just make sure the model is loaded\n",
    "\n",
    "!ollama pull deepseek-r1:1.5b\n",
    "#!ollama pull llama3.2\n",
    "\n",
    "# If this doesn't work for any reason, try the 2 versions in the following cells\n",
    "# And double check the instructions in the 'Recap on installation of Ollama' at the top of this lab\n",
    "# And if none of that works - contact me!\n",
    "\n",
    "response = requests.post(OLLAMA_API, json=payload, headers=HEADERS)\n",
    "print(response.json()['message']['content'])\n",
    "\n",
    "# To give you a preview -- calling OpenAI with these messages is this easy. Any problems, head over to the Troubleshooting notebook.\n",
    "\n",
    "message = \"Hello, GPT! This is my first ever message to you! Hi!\"\n",
    "#response = openai.chat.completions.create(model=\"gpt-4o-mini\", messages=[{\"role\":\"user\", \"content\":message}])\n",
    "#print(response.choices[0].message.content)"
   ]
  },
  {
   "cell_type": "code",
   "execution_count": 10,
   "id": "d67c879c-e22f-4a7a-abe0-75ae9fb82dc6",
   "metadata": {},
   "outputs": [],
   "source": [
    "# A class to represent a Webpage\n",
    "# If you're not familiar with Classes, check out the \"Intermediate Python\" notebook\n",
    "\n",
    "# Some websites need you to use proper headers when fetching them:\n",
    "headers = {\n",
    " \"User-Agent\": \"Mozilla/5.0 (Windows NT 10.0; Win64; x64) AppleWebKit/537.36 (KHTML, like Gecko) Chrome/117.0.0.0 Safari/537.36\"\n",
    "}\n",
    "\n",
    "class Website:\n",
    "\n",
    "    def __init__(self, url):\n",
    "        \"\"\"\n",
    "        Create this Website object from the given url using the BeautifulSoup library\n",
    "        \"\"\"\n",
    "        self.url = url\n",
    "        response = requests.get(url, headers=headers)\n",
    "        soup = BeautifulSoup(response.content, 'html.parser')\n",
    "        self.title = soup.title.string if soup.title else \"No title found\"\n",
    "        for irrelevant in soup.body([\"script\", \"style\", \"img\", \"input\"]):\n",
    "            irrelevant.decompose()\n",
    "        self.text = soup.body.get_text(separator=\"\\n\", strip=True)"
   ]
  },
  {
   "cell_type": "code",
   "execution_count": 11,
   "id": "29bf8f33-3ccd-4c32-ad4f-6161164c79f8",
   "metadata": {},
   "outputs": [
    {
     "name": "stdout",
     "output_type": "stream",
     "text": [
      "Home - Edward Donner\n",
      "Home\n",
      "Connect Four\n",
      "Outsmart\n",
      "An arena that pits LLMs against each other in a battle of diplomacy and deviousness\n",
      "About\n",
      "Posts\n",
      "Well, hi there.\n",
      "I’m Ed. I like writing code and experimenting with LLMs, and hopefully you’re here because you do too. I also enjoy DJing (but I’m badly out of practice), amateur electronic music production (\n",
      "very\n",
      "amateur) and losing myself in\n",
      "Hacker News\n",
      ", nodding my head sagely to things I only half understand.\n",
      "I’m the co-founder and CTO of\n",
      "Nebula.io\n",
      ". We’re applying AI to a field where it can make a massive, positive impact: helping people discover their potential and pursue their reason for being. Recruiters use our product today to source, understand, engage and manage talent. I’m previously the founder and CEO of AI startup untapt,\n",
      "acquired in 2021\n",
      ".\n",
      "We work with groundbreaking, proprietary LLMs verticalized for talent, we’ve\n",
      "patented\n",
      "our matching model, and our award-winning platform has happy customers and tons of press coverage.\n",
      "Connect\n",
      "with me for more!\n",
      "January 23, 2025\n",
      "LLM Workshop – Hands-on with Agents – resources\n",
      "December 21, 2024\n",
      "Welcome, SuperDataScientists!\n",
      "November 13, 2024\n",
      "Mastering AI and LLM Engineering – Resources\n",
      "October 16, 2024\n",
      "From Software Engineer to AI Data Scientist – resources\n",
      "Navigation\n",
      "Home\n",
      "Connect Four\n",
      "Outsmart\n",
      "An arena that pits LLMs against each other in a battle of diplomacy and deviousness\n",
      "About\n",
      "Posts\n",
      "Get in touch\n",
      "ed [at] edwarddonner [dot] com\n",
      "www.edwarddonner.com\n",
      "Follow me\n",
      "LinkedIn\n",
      "Twitter\n",
      "Facebook\n",
      "Subscribe to newsletter\n",
      "Type your email…\n",
      "Subscribe\n"
     ]
    }
   ],
   "source": [
    "# Let's try one out. Change the website and add print statements to follow along.\n",
    "\n",
    "ed = Website(\"https://edwarddonner.com\")\n",
    "print(ed.title)\n",
    "print(ed.text)"
   ]
  },
  {
   "cell_type": "code",
   "execution_count": null,
   "id": "c40072ef-9f4c-4b1b-a298-f566e209a8af",
   "metadata": {},
   "outputs": [],
   "source": []
  },
  {
   "cell_type": "code",
   "execution_count": null,
   "id": "b35b095d-6b6a-4cbb-9bc7-90dfc5ef4a7a",
   "metadata": {},
   "outputs": [],
   "source": []
  },
  {
   "cell_type": "code",
   "execution_count": 12,
   "id": "141eff4d-eb37-44d2-b2c7-d5800e92870f",
   "metadata": {},
   "outputs": [],
   "source": [
    "# Define our system prompt - you can experiment with this later, changing the last sentence to 'Respond in markdown in Spanish.\"\n",
    "\n",
    "system_prompt = \"You are an assistant that analyzes the contents of a website \\\n",
    "and provides a short summary, ignoring text that might be navigation related. \\\n",
    "Respond in markdown.\""
   ]
  },
  {
   "cell_type": "code",
   "execution_count": null,
   "id": "49d8bec3-e676-4aa7-966f-beea7e85652e",
   "metadata": {},
   "outputs": [],
   "source": []
  },
  {
   "cell_type": "code",
   "execution_count": 13,
   "id": "9fd7b9ab-03ac-42aa-bca0-2c8bc966414e",
   "metadata": {},
   "outputs": [],
   "source": [
    "# A function that writes a User Prompt that asks for summaries of websites:\n",
    "\n",
    "def user_prompt_for(website):\n",
    "    user_prompt = f\"You are looking at a website titled {website.title}\"\n",
    "    user_prompt += \"\\nThe contents of this website is as follows; \\\n",
    "please provide a short summary of this website in markdown. \\\n",
    "If it includes news or announcements, then summarize these too.\\n\\n\"\n",
    "    user_prompt += website.text\n",
    "    return user_prompt"
   ]
  },
  {
   "cell_type": "code",
   "execution_count": 14,
   "id": "0609bf4b-cff5-485a-856f-6a19caa3407d",
   "metadata": {},
   "outputs": [
    {
     "name": "stdout",
     "output_type": "stream",
     "text": [
      "You are looking at a website titled Home - Edward Donner\n",
      "The contents of this website is as follows; please provide a short summary of this website in markdown. If it includes news or announcements, then summarize these too.\n",
      "\n",
      "Home\n",
      "Connect Four\n",
      "Outsmart\n",
      "An arena that pits LLMs against each other in a battle of diplomacy and deviousness\n",
      "About\n",
      "Posts\n",
      "Well, hi there.\n",
      "I’m Ed. I like writing code and experimenting with LLMs, and hopefully you’re here because you do too. I also enjoy DJing (but I’m badly out of practice), amateur electronic music production (\n",
      "very\n",
      "amateur) and losing myself in\n",
      "Hacker News\n",
      ", nodding my head sagely to things I only half understand.\n",
      "I’m the co-founder and CTO of\n",
      "Nebula.io\n",
      ". We’re applying AI to a field where it can make a massive, positive impact: helping people discover their potential and pursue their reason for being. Recruiters use our product today to source, understand, engage and manage talent. I’m previously the founder and CEO of AI startup untapt,\n",
      "acquired in 2021\n",
      ".\n",
      "We work with groundbreaking, proprietary LLMs verticalized for talent, we’ve\n",
      "patented\n",
      "our matching model, and our award-winning platform has happy customers and tons of press coverage.\n",
      "Connect\n",
      "with me for more!\n",
      "January 23, 2025\n",
      "LLM Workshop – Hands-on with Agents – resources\n",
      "December 21, 2024\n",
      "Welcome, SuperDataScientists!\n",
      "November 13, 2024\n",
      "Mastering AI and LLM Engineering – Resources\n",
      "October 16, 2024\n",
      "From Software Engineer to AI Data Scientist – resources\n",
      "Navigation\n",
      "Home\n",
      "Connect Four\n",
      "Outsmart\n",
      "An arena that pits LLMs against each other in a battle of diplomacy and deviousness\n",
      "About\n",
      "Posts\n",
      "Get in touch\n",
      "ed [at] edwarddonner [dot] com\n",
      "www.edwarddonner.com\n",
      "Follow me\n",
      "LinkedIn\n",
      "Twitter\n",
      "Facebook\n",
      "Subscribe to newsletter\n",
      "Type your email…\n",
      "Subscribe\n"
     ]
    }
   ],
   "source": [
    "print(user_prompt_for(ed))"
   ]
  },
  {
   "cell_type": "code",
   "execution_count": 18,
   "id": "396c4dcc-33a3-477e-a20f-9f24650b097d",
   "metadata": {},
   "outputs": [],
   "source": [
    "messages = [\n",
    "    {\"role\": \"system\", \"content\": \"You are a snarky assistant\"},\n",
    "    {\"role\": \"user\", \"content\": \"What is 2 + 2?\"}\n",
    "]\n",
    "payload = {\n",
    "        \"model\": MODEL,\n",
    "        \"messages\": messages,\n",
    "        \"stream\": False\n",
    "    }"
   ]
  },
  {
   "cell_type": "code",
   "execution_count": 19,
   "id": "8e022d9a-3cae-4f1d-926f-885f4eb45e1f",
   "metadata": {},
   "outputs": [
    {
     "name": "stdout",
     "output_type": "stream",
     "text": [
      "<think>\n",
      "Okay, so I need to figure out what the sum of two plus two is. Hmm, let me start by thinking about it. I know that addition is combining quantities. So if I have two apples and then get two more, how many do I have in total?\n",
      "\n",
      "Wait a second, maybe I should visualize this. If I draw two circles and put one apple inside each, that's two apples. Then, adding another two apples, maybe with two more circles, would give me four apples altogether. That makes sense because 2 plus 2 equals 4.\n",
      "\n",
      "But just to make sure, what if I use my fingers? If I hold up two fingers on one hand and then hold up two more on the other hand, that's a total of four. Yeah, that checks out too. \n",
      "\n",
      "I could also think about real-life examples. Like, if I have two toys and someone gives me another two, how many toys do I have? It would be four toys in total. That helps reinforce the concept.\n",
      "\n",
      "Is there any other way to approach this problem? Maybe using objects or different denominations. For instance, money: If I have $2 and then receive $2 more, my total amount is $4. Or time: If I start a task at 10 AM and finish it two hours later, I would have finished at 12 PM, which is four hours in total.\n",
      "\n",
      "I guess the key here is understanding that addition combines quantities to find the sum. In this case, combining two and two gives me four. So, confidently, the answer must be four.\n",
      "</think>\n",
      "\n",
      "The sum of two plus two equals four.\n",
      "\n",
      "**Answer:** 4\n"
     ]
    }
   ],
   "source": [
    "response = requests.post(OLLAMA_API, json=payload, headers=HEADERS)\n",
    "print(response.json()['message']['content'])"
   ]
  },
  {
   "cell_type": "code",
   "execution_count": 20,
   "id": "c9fe683f-6ae7-45dd-a898-1c42e9c2aa31",
   "metadata": {},
   "outputs": [],
   "source": [
    "# See how this function creates exactly the format above\n",
    "\n",
    "def messages_for(website):\n",
    "    return [\n",
    "        {\"role\": \"system\", \"content\": system_prompt},\n",
    "        {\"role\": \"user\", \"content\": user_prompt_for(website)}\n",
    "    ]"
   ]
  },
  {
   "cell_type": "code",
   "execution_count": 21,
   "id": "12b59f8f-fdf8-44d0-b06d-2ddd6cbe6df0",
   "metadata": {},
   "outputs": [
    {
     "data": {
      "text/plain": [
       "[{'role': 'system',\n",
       "  'content': 'You are an assistant that analyzes the contents of a website and provides a short summary, ignoring text that might be navigation related. Respond in markdown.'},\n",
       " {'role': 'user',\n",
       "  'content': 'You are looking at a website titled Home - Edward Donner\\nThe contents of this website is as follows; please provide a short summary of this website in markdown. If it includes news or announcements, then summarize these too.\\n\\nHome\\nConnect Four\\nOutsmart\\nAn arena that pits LLMs against each other in a battle of diplomacy and deviousness\\nAbout\\nPosts\\nWell, hi there.\\nI’m Ed. I like writing code and experimenting with LLMs, and hopefully you’re here because you do too. I also enjoy DJing (but I’m badly out of practice), amateur electronic music production (\\nvery\\namateur) and losing myself in\\nHacker News\\n, nodding my head sagely to things I only half understand.\\nI’m the co-founder and CTO of\\nNebula.io\\n. We’re applying AI to a field where it can make a massive, positive impact: helping people discover their potential and pursue their reason for being. Recruiters use our product today to source, understand, engage and manage talent. I’m previously the founder and CEO of AI startup untapt,\\nacquired in 2021\\n.\\nWe work with groundbreaking, proprietary LLMs verticalized for talent, we’ve\\npatented\\nour matching model, and our award-winning platform has happy customers and tons of press coverage.\\nConnect\\nwith me for more!\\nJanuary 23, 2025\\nLLM Workshop – Hands-on with Agents – resources\\nDecember 21, 2024\\nWelcome, SuperDataScientists!\\nNovember 13, 2024\\nMastering AI and LLM Engineering – Resources\\nOctober 16, 2024\\nFrom Software Engineer to AI Data Scientist – resources\\nNavigation\\nHome\\nConnect Four\\nOutsmart\\nAn arena that pits LLMs against each other in a battle of diplomacy and deviousness\\nAbout\\nPosts\\nGet in touch\\ned [at] edwarddonner [dot] com\\nwww.edwarddonner.com\\nFollow me\\nLinkedIn\\nTwitter\\nFacebook\\nSubscribe to newsletter\\nType your email…\\nSubscribe'}]"
      ]
     },
     "execution_count": 21,
     "metadata": {},
     "output_type": "execute_result"
    }
   ],
   "source": [
    "messages_for(ed)"
   ]
  },
  {
   "cell_type": "code",
   "execution_count": 26,
   "id": "ec0e264e-2d5a-4084-ae4e-009de1fc866e",
   "metadata": {},
   "outputs": [
    {
     "data": {
      "text/plain": [
       "[{'role': 'system',\n",
       "  'content': 'You are an assistant that analyzes the contents of a website and provides a short summary, ignoring text that might be navigation related. Respond in markdown.'},\n",
       " {'role': 'user',\n",
       "  'content': \"You are looking at a website titled Breaking News, Latest News and Videos | CNN\\nThe contents of this website is as follows; please provide a short summary of this website in markdown. If it includes news or announcements, then summarize these too.\\n\\nCNN values your feedback\\n1. How relevant is this ad to you?\\n2. Did you encounter any technical issues?\\nVideo player was slow to load content\\nVideo content never loaded\\nAd froze or did not finish loading\\nVideo content did not start after ad\\nAudio on ad was too loud\\nOther issues\\nAd never loaded\\nAd prevented/slowed the page from loading\\nContent moved around while ad loaded\\nAd was repetitive to ads I've seen previously\\nOther issues\\nCancel\\nSubmit\\nThank You!\\nYour effort and contribution in providing this feedback is much\\n                                        appreciated.\\nClose\\nAd Feedback\\nClose icon\\nUS\\nWorld\\nPolitics\\nBusiness\\nHealth\\nEntertainment\\nStyle\\nTravel\\nSports\\nScience\\nClimate\\nWeather\\nUkraine-Russia War\\nIsrael-Hamas War\\nGames\\nMore\\nUS\\nWorld\\nPolitics\\nBusiness\\nHealth\\nEntertainment\\nStyle\\nTravel\\nSports\\nScience\\nClimate\\nWeather\\nUkraine-Russia War\\nIsrael-Hamas War\\nGames\\nWatch\\nListen\\nLive TV\\nSubscribe\\nSign in\\nMy Account\\nSettings\\nNewsletters\\nTopics You Follow\\nSign Out\\nYour CNN account\\nSign in to your CNN account\\nSign in\\nMy Account\\nSettings\\nNewsletters\\nTopics You Follow\\nSign Out\\nYour CNN account\\nSign in to your CNN account\\nLive TV\\nListen\\nWatch\\nEdition\\nUS\\nInternational\\nArabic\\nEspañol\\nEdition\\nUS\\nInternational\\nArabic\\nEspañol\\nWorld\\nAfrica\\nAmericas\\nAsia\\nAustralia\\nChina\\nEurope\\nIndia\\nMiddle East\\nUnited Kingdom\\nUS Politics\\nSCOTUS\\nCongress\\nFacts First\\n2024 Elections\\nBusiness\\nTech\\nMedia\\nCalculators\\nVideos\\nMarkets\\nPre-markets\\nAfter-Hours\\nFear & Greed\\nInvesting\\nMarkets Now\\nNightcap\\nHealth\\nLife, But Better\\nFitness\\nFood\\nSleep\\nMindfulness\\nRelationships\\nEntertainment\\nMovies\\nTelevision\\nCelebrity\\nTech\\nInnovate\\nForeseeable Future\\nMission: Ahead\\nWork Transformed\\nInnovative Cities\\nStyle\\nArts\\nDesign\\nFashion\\nArchitecture\\nLuxury\\nBeauty\\nVideo\\nTravel\\nDestinations\\nFood & Drink\\nStay\\nNews\\nVideos\\nSports\\nFootball\\nTennis\\nGolf\\nMotorsport\\nUS Sports\\nOlympics\\nClimbing\\nEsports\\nHockey\\nScience\\nSpace\\nLife\\nUnearthed\\nClimate\\nSolutions\\nWeather\\nWeather\\nVideo\\nClimate\\nUkraine-Russia War\\nIsrael-Hamas War\\nFeatures\\nAs Equals\\nCall to Earth\\nFreedom Project\\nImpact Your World\\nInside Africa\\nCNN Heroes\\nWatch\\nLive TV\\nCNN Fast\\nShows A-Z\\nCNN10\\nCNN Max\\nCNN TV Schedules\\nListen\\nCNN 5 Things\\nChasing Life with Dr. Sanjay Gupta\\nThe Assignment with Audie Cornish\\nOne Thing\\nTug of War\\nCNN Political Briefing\\nThe Axe Files\\nAll There Is with Anderson Cooper\\nAll CNN Audio podcasts\\nGames\\nCNN Crossword\\nJumble Crossword\\nPhoto Shuffle\\nSudoblock\\nSudoku\\n5 Things Quiz\\nAbout CNN\\nPhotos\\nInvestigations\\nCNN Profiles\\nCNN Leadership\\nCNN Newsletters\\nWork for CNN\\nFollow CNN\\nOscar winners 2025\\nCNN Poll: Public remains negative on Trump\\nSelena Gomez\\nIs flying still safe?\\nGene Hackman\\n‘Tesla Takedown’ protesters\\nSteph Curry\\nTrump insists Putin wants peace. Civilian deaths are rising\\nShow\\xa0all\\nOlexandr Kornyakov/Global Images Ukraine/Getty Images\\nMoscow is launching deadly attacks in Ukraine on a daily basis, as Putin shows no signs of stopping the fighting\\nAnalysis\\nEuropeans embrace Zelensky after he was vilified by Trump\\n5 takeaways from a weekend that had profound implications for Washington’s relationship with allies\\nLive Updates\\nFallout from Trump’s hostile meeting with Zelensky\\nWhite House amplifies rave reviews for Trump’s handling of Zelensky showdown as Europe rallies around Ukraine\\nUS suspends offensive cyber operations against Russia, senior US official says\\n•\\nVideo\\n2:22\\nCNN\\nVideo\\nZelensky was asked if he could salvage relationship with US. Hear his response\\n2:22\\n•\\nVideo\\n4:06\\nCNN\\nVideo\\nDana Bash asks Waltz if Trump expects Zelensky to resign. Hear his answer\\n4:06\\n•\\nVideo\\n1:56\\nCNN\\nVideo\\nData analyst on poll showing Republican attitudes toward Russia-Ukraine war\\n1:56\\n•\\nCNN Poll\\nCNN Poll\\nAl Drago/Bloomberg/Getty Images\\nCNN Poll\\nPublic remains negative on Trump ahead of address to Congress\\nIan Berry/CNN/Adobe Stock\\nThis region was powered almost entirely by renewables. It now relies on subsidized energy from Russia\\n•\\nAnalysis\\nAnalysis\\nSaul Loeb/AFP/Getty Images\\nAnalysis\\nTrump’s policy ‘largely coincides with our vision’, Putin’s spokesman says\\nCatch up on today's global news\\n- Source:\\nCNN\\nVideo\\nCatch up on today’s global news\\n2025 Academy Awards\\nReuters/Getty Images\\nBest red carpet looks at the 2025 Oscars\\n•\\nVideo\\n0:44\\nChris Pizzello/Invision/AP\\nVideo\\nMikey Madison recognizes sex workers after Oscar win\\n0:44\\nAP, Getty Images, The Academy\\n‘Anora’s’ winning night, Conan O’Brien comes with one-liners and other Oscar highlights\\nPatrick T. Fallon/AFP/Getty Images\\nAdam Sandler’s trademark casualwear mocked by Oscars host Conan O’Brien\\nKevin Winter/Getty Images\\nPalestinian and Israeli filmmakers make defiant speech after winning best documentary Oscar\\nAd Feedback\\nMore top stories\\n•\\nBreaking News\\nBreaking News\\nRené Priebe/dpa/AP\\nBreaking News\\nAt least one killed in car ramming attack in German city of Mannheim, police say\\nJames Harrison, blood donor whose rare plasma saved millions of babies, dead at 88\\nIsrael says it will block Gaza humanitarian aid until Hamas agrees to new conditions\\nOscar winners 2025: See who took home the Academy Award\\nSCOTUS justices tread carefully as collision with Trump looms\\nVideo\\nAre irradiated rhinos the solution to stop poaching?\\n2:23\\nFeatured\\nScott Kirkland/Disney\\nMade from 16,000 glass droplets, Selena Gomez’s Oscars gown was an ode to Sophia Loren\\nFlorence Lo/Reuters\\nThis boba chain you’ve never heard of has more outlets than McDonald’s\\nDisney Cruise Lines\\nDisney’s biggest cruise ship yet will take its maiden voyage later this year. Here’s what awaits guests\\nAd Feedback\\nUrs Flueeler/Keystone/AP\\nEx-FIFA and UEFA chiefs Sepp Blatter and Michel Platini return to court to face corruption charge\\nMar 3, 2025\\nTiziana Fabi/AFP/Getty Images\\nPope Francis is in stable condition but ‘risk of crisis’ remains, Vatican sources say\\nMar 3, 2025\\nPatrick T. Fallon/AFP/Getty Images\\nVideo\\n‘Mami!’: Zoe Saldaña searches for her mom in the crowd after Oscar win\\n0:55\\nMar 3, 2025\\nAndreas [FranzXaver] Süß/Rostock & Warnemünde Tourism\\nClothed troublemakers are banned from nudist beaches in Germany\\nMar 1, 2025\\nAd Feedback\\nCNN\\n‘They are harming ordinary people’: Trump’s funding cuts are taking a toll in North Carolina\\nDoug Engle/Florida Times-Union/USA Today Network\\n‘Tesla Takedown’ protesters gather outside showrooms to rally against Musk’s role with DOGE\\n•\\nVideo\\n1:47\\nFirefly Aerospace\\nVideo\\nRare milestone on the moon achieved by Texas company. Here’s why it’s so significant\\n1:47\\nDomino's Pizza\\nDomino’s Pizza sales are struggling. It’s adding stuffed crust to help\\nFirefly's Blue Ghost lander on February 24th 2025 approximately 100km above the lunar surface.\\nFirefly Aerospace\\nFirefly’s Blue Ghost lander successfully touches down on the moon\\nThomas Barwick/Digital Vision/Getty Images\\nSmall talk is good for you. Here’s how to get better at it, according to experts\\nDEA/A. DAGLI ORTI/De Agostini Editorial/Getty Images\\nNo one knows what this ancient script says. Now there’s a $1 million prize to crack the code\\nJay L. Clendenin/Shutterstock\\nHalle Berry gets ‘payback’ on Adrien Brody at the Oscars — with a kiss\\nVCG/Getty Images\\nA weekend of fire and ice: China’s east hit by snow blizzards and record heat\\nKent Nishimura/Reuteres\\n‘It’s the shadow OPM’: How DOGE is using a once-obscure federal agency as ground zero for its plans to shrink government\\n•\\nVideo\\n1:40\\nNBC\\nVideo\\n‘SNL’ takes aim at Trump-Zelensky meeting\\n1:40\\nAd Feedback\\nFeatured Sections\\nSpace and science\\nDe Agostini/Getty Images\\nMysterious tunnels sketched by Leonardo da Vinci in the late 1400s may have been found\\nChina’s Mars rover makes stunning discovery in search for evidence of ancient water\\nA man’s brain turned to glass during the eruption of Mount Vesuvius. Scientists say they’ve figured out how\\nAncient glacier finding reveals clues to how complex life on Earth evolved, scientists say\\nGlobal Travel\\nShow\\xa0all\\nAhmad Kamal/Xinhua/Getty Images\\nThis shiny new airport is just missing one thing: passengers\\nThese are the world’s best beaches for 2025, according to Tripadvisor\\nIn Switzerland, sledding is not for the faint of heart\\nNew, faster train routes connecting Britain to France and Germany might be on their way\\nAd Feedback\\nGlobal Business\\nBill Pugliano/Getty Images\\nYour next car could quickly become much more expensive if Trump makes good on his tariff threat next week\\nAnalysis\\nYour fear of flying can be explained by a 1970s toilet paper shortage\\nNippon to continue its fight to buy US Steel, despite what Trump believes\\nTrump’s media company defends its ‘diversity and inclusion’ policies as his administration dismantles DEI\\nStyle\\n•\\nLook of the week\\nLook of the week\\nCarlos Alvarez/Getty Images for Netflix\\nLook of the week\\nThe hidden meaning in Millie Bobby Brown’s blonde blowout\\nThe internet is raving about ‘nature’s Botox.’ Does it work?\\nFrom Instagram to art world darling: The meteoric rise of Danielle Mckinney\\nSony World Photography Awards 2025: The year’s best images unveiled\\nSPORT\\nShow\\xa0all\\nUrs Flueeler/Keystone/AP\\nEx-FIFA and UEFA chiefs Sepp Blatter and Michel Platini return to court to face corruption charge\\nFrom Prison to the Open Championship: Australia’s Ryan Peak wins 104th New Zealand Open to clinch first major berth\\nScottie Scheffler’s arrest and heartbreaking moments: Here are 3 talking points from the new series of ‘Full Swing’\\nAd Feedback\\nUS Politics\\n•\\nAnalysis\\nAnalysis\\nBrian Snyder/Reuters\\nAnalysis\\nThe haphazard nihilism of America’s new Department of Government Efficiency\\nTrump signs executive order designating English as the official language of the US\\nTrump wants to protect South Africa’s White farmers. But potential changes to trade privileges would hurt them\\n‘New York City is in trouble,’ former Governor Andrew Cuomo says as he announces candidacy for mayor\\nFederal employees are asked again to report their activities at work – now on a weekly basis\\nhealth and wellness\\nThomas Barwick/Digital Vision/Getty Images\\nSmall talk is good for you. Here’s how to get better at it, according to experts\\nHere’s how I learned to enjoy running after only a month of practice\\n5 things this ER doctor would like you to start doing\\nRobert F. Kennedy Jr. said quitting antidepressants can be worse than getting off heroin. Here’s what the experts say\\nTech\\nNikolas Kokovlis/NurPhoto/Shutterstock\\nSkype is shutting down after two decades\\nFacebook enables gender discrimination in job ads, European human rights body rules\\nAnalysis\\nTrump is already trying to put his stamp on AI\\nAmazon has a ‘slew of AI devices’ coming, hardware chief says\\nPhotos You Should See\\n•\\nGallery\\nGallery\\nJordan Strauss/Invision/AP\\nGallery\\nIn pictures: The 2025 Academy Awards\\n•\\nGallery\\nGallery\\nAfriadi Hikmal/NurPhoto/Getty Images\\nGallery\\nIn pictures: Muslims around the world observe Ramadan\\n•\\nGallery\\nGallery\\nCourtesy of NEON\\nGallery\\nHere’s every film that won the Oscar for best picture\\nDiego Izquierdo/AFP/Getty Images\\nArgentina beach changes color. Skier soars next to bird. The week in photos\\n•\\nGallery\\nGallery\\nMichael M. Santiago/Getty Images\\nGallery\\nPeople we’ve lost in 2025\\n•\\nGallery\\nGallery\\nCourtesy Dimitris Sideridis\\nGallery\\nAncient rock carvings emerge in the desert\\nAd Feedback\\nIn Case You Missed It\\nMonica Kennedy\\nA married couple traveled to Italy to try to ‘salvage the relationship.’ Then a new guy entered the picture\\nIs flying still safe? Here’s what experts say\\nGuinness has made it official. This is the world’s smallest park\\n‘This is a family issue’: Allegations are flying behind the scenes at Goya Foods\\nTropicana is in big financial trouble\\nChristian sect members who watched 8-year-old die get lengthy prison sentences\\nNew book on Biden by Jake Tapper and Alex Thompson reports a ‘cover-up’ about his decline\\nAnalysis\\nGermany’s far-right may be frozen out of power, but the AfD is now a powerful force\\nNew Zealand’s bug of the year is an ancient worm that spits poison goo\\nSubscribe\\nSign in\\nMy Account\\nSettings\\nNewsletters\\nTopics You Follow\\nSign Out\\nYour CNN account\\nSign in to your CNN account\\nLive TV\\nListen\\nWatch\\nWorld\\nAfrica\\nAmericas\\nAsia\\nAustralia\\nChina\\nEurope\\nIndia\\nMiddle East\\nUnited Kingdom\\nUS Politics\\nSCOTUS\\nCongress\\nFacts First\\n2024 Elections\\nBusiness\\nTech\\nMedia\\nCalculators\\nVideos\\nMarkets\\nPre-markets\\nAfter-Hours\\nFear & Greed\\nInvesting\\nMarkets Now\\nNightcap\\nHealth\\nLife, But Better\\nFitness\\nFood\\nSleep\\nMindfulness\\nRelationships\\nEntertainment\\nMovies\\nTelevision\\nCelebrity\\nTech\\nInnovate\\nForeseeable Future\\nMission: Ahead\\nWork Transformed\\nInnovative Cities\\nStyle\\nArts\\nDesign\\nFashion\\nArchitecture\\nLuxury\\nBeauty\\nVideo\\nTravel\\nDestinations\\nFood & Drink\\nStay\\nNews\\nVideos\\nSports\\nFootball\\nTennis\\nGolf\\nMotorsport\\nUS Sports\\nOlympics\\nClimbing\\nEsports\\nHockey\\nScience\\nSpace\\nLife\\nUnearthed\\nClimate\\nSolutions\\nWeather\\nWeather\\nVideo\\nClimate\\nUkraine-Russia War\\nIsrael-Hamas War\\nFeatures\\nAs Equals\\nCall to Earth\\nFreedom Project\\nImpact Your World\\nInside Africa\\nCNN Heroes\\nWatch\\nLive TV\\nCNN Fast\\nShows A-Z\\nCNN10\\nCNN Max\\nCNN TV Schedules\\nListen\\nCNN 5 Things\\nChasing Life with Dr. Sanjay Gupta\\nThe Assignment with Audie Cornish\\nOne Thing\\nTug of War\\nCNN Political Briefing\\nThe Axe Files\\nAll There Is with Anderson Cooper\\nAll CNN Audio podcasts\\nGames\\nCNN Crossword\\nJumble Crossword\\nPhoto Shuffle\\nSudoblock\\nSudoku\\n5 Things Quiz\\nAbout CNN\\nPhotos\\nInvestigations\\nCNN Profiles\\nCNN Leadership\\nCNN Newsletters\\nWork for CNN\\nWatch\\nListen\\nLive TV\\nFollow CNN\\nSubscribe\\nSign in\\nMy Account\\nSettings\\nNewsletters\\nTopics You Follow\\nSign Out\\nYour CNN account\\nSign in to your CNN account\\nTerms of Use\\nPrivacy Policy\\nAd Choices\\nAccessibility & CC\\nAbout\\nNewsletters\\nTranscripts\\n© 2025 Cable News Network. A Warner Bros. Discovery Company. All Rights Reserved.\\nCNN Sans ™ & © 2016 Cable News Network.\"}]"
      ]
     },
     "execution_count": 26,
     "metadata": {},
     "output_type": "execute_result"
    }
   ],
   "source": [
    "messages_for(Website(\"https://cnn.com\"))"
   ]
  },
  {
   "cell_type": "code",
   "execution_count": 32,
   "id": "10935288-8c18-4124-adff-969c03c8e089",
   "metadata": {},
   "outputs": [],
   "source": [
    "# And now: call the OpenAI API. You will get very familiar with this!\n",
    "\n",
    "def summarize(url):\n",
    "    website = Website(url)\n",
    "    #response = openai.chat.completions.create(\n",
    "    #    model = \"gpt-4o-mini\",\n",
    "    #    messages = messages_for(website)\n",
    "    #)\n",
    "    # Use local LLM instead\n",
    "    \n",
    "    payload = {\n",
    "        \"model\": MODEL,\n",
    "        \"messages\": messages_for(website),\n",
    "        \"stream\": False\n",
    "    }\n",
    "    \n",
    "    response = requests.post(OLLAMA_API, json=payload, headers=HEADERS)\n",
    "    \n",
    "    return response.json()['message']['content']"
   ]
  },
  {
   "cell_type": "code",
   "execution_count": 33,
   "id": "b1e2b993-f21a-4965-a22c-10bddffed858",
   "metadata": {},
   "outputs": [
    {
     "data": {
      "text/plain": [
       "'<think>\\nOkay, so I\\'m trying to figure out what this website is about. Let me read through the title first. It says \"Home - Edward Donner.\" Hmm, that\\'s a bit vague on its own. Then it goes into some details: Connect Four, Outsmart, and an arena where LLMs (which are large language models) compete in a complex way. There\\'s also information about Ed being the co-founder of Nebula.io, which uses LLMs for talent discovery, and Ed has a blog and newsletter.\\n\\nSo breaking it down, the main title seems to be Edward Donner\\'s home page. The content provided describes an arena where large language models (LLMs) compete in various games like Connect Four and Outsmart, which are probably based on simple AI rules. There\\'s also information about how Ed operates with LLMs, including his company Nebula.io, which uses these models to help people discover their potential.\\n\\nWait, the content mentions \"connect four,\" but I think that\\'s a game where players connect pieces vertically or horizontally. Maybe it\\'s not related because Connect Four is a physical game and they don\\'t use LLMs in that context. Similarly, \"outsmart\" isn\\'t a familiar game name to me either.\\n\\nThe blog and newsletter are probably for keeping users informed about the company, their work with LLMs, and any news or announcements from the site. Since there\\'s no section mentioned about specific games or events besides Ed working with LLMs, maybe that\\'s just context.\\n\\nSo putting it all together, Edward Donner\\'s website seems to be related to using large language models in a competitive environment, likely for talent discovery or AI-driven discussions. The content provided gives some details on the structure of their platform and even includes an ed email address for subscribers, which is typical for newsletters and companies.\\n\\nI\\'m not entirely sure about all the specifics beyond what\\'s mentioned because there are parts I don\\'t recognize, like \"Connect Four\" and \"Outsmart.\" Maybe they were placeholders or examples. The key points seem to be Edward Donner working with LLMs in a competitive arena for talent, his company Nebula.io using these models for discovery, and Ed maintaining an online presence through his blog and newsletter.\\n\\nI should check if there are any other relevant links or mentions of specific events that could provide more context. The navigation menu has \"Connect Four,\" \"Outsmart,\" and the platform itself. Maybe those sections contain updates or news related to their LLM-based initiatives, but since they didn\\'t specify, I can only go off what\\'s provided.\\n\\nSo, in summary, Edward Donner\\'s website seems focused on using large language models in a competitive environment, possibly for managing talent or AI discussions. They have a blog and newsletter for subscribers, and the content mentions their company Nebula.io which applies LLMs to help people discover potential.\\n</think>\\n\\nEdward Donner\\'s website is centered around the innovative use of Large Language Models (LLMs) in a competitive arena aimed at fostering talent discovery and AI-driven discussions. The content highlights Edward Donner, co-founder of Nebula.io, who leverages these models for talent identification and management. \\n\\nKey points include:\\n- **Competitive Arena**: LLMs compete in games like Connect Four and Outsmart, though these seem to be placeholders.\\n- **Talent Discovery**: Nebula.io utilizes LLMs for discovering potential within organizations.\\n- **Company Overview**: Ed is the co-founder of Nebula.io, applying AI solutions that aid in talent management.\\n- **Online Presence**: The site features a blog and newsletter for subscribers, indicating a focus on educational content and updates.\\n\\nThe website\\'s structure and content provide insights into how large language models are integrated into competitive artificial intelligence contexts.'"
      ]
     },
     "execution_count": 33,
     "metadata": {},
     "output_type": "execute_result"
    }
   ],
   "source": [
    "summarize(\"https://edwarddonner.com\")"
   ]
  },
  {
   "cell_type": "code",
   "execution_count": 34,
   "id": "bea7ba69-38dd-42e4-a8b2-de3677112e6d",
   "metadata": {},
   "outputs": [
    {
     "name": "stdout",
     "output_type": "stream",
     "text": [
      "Edward Donner's website is centered around the innovative use of Large Language Models (LLMs) in a competitive arena aimed at fostering talent discovery and AI-driven discussions. The content highlights Edward Donner, co-founder of Nebula.io, who leverages these models for talent identification and management. \n",
      "\n",
      "Key points include:\n",
      "- **Competitive Arena**: LLMs compete in games like Connect Four and Outsmart, though these seem to be placeholders.\n",
      "- **Talent Discovery**: Nebula.io utilizes LLMs for discovering potential within organizations.\n",
      "- **Company Overview**: Ed is the co-founder of Nebula.io, applying AI solutions that aid in talent management.\n",
      "- **Online Presence**: The site features a blog and newsletter for subscribers, indicating a focus on educational content and updates.\n",
      "\n",
      "The website's structure and content provide insights into how large language models are integrated into competitive artificial intelligence contexts.\n",
      "\n"
     ]
    }
   ],
   "source": [
    "html_content='<think>\\nOkay, so I\\'m trying to figure out what this website is about. Let me read through the title first. It says \"Home - Edward Donner.\" Hmm, that\\'s a bit vague on its own. Then it goes into some details: Connect Four, Outsmart, and an arena where LLMs (which are large language models) compete in a complex way. There\\'s also information about Ed being the co-founder of Nebula.io, which uses LLMs for talent discovery, and Ed has a blog and newsletter.\\n\\nSo breaking it down, the main title seems to be Edward Donner\\'s home page. The content provided describes an arena where large language models (LLMs) compete in various games like Connect Four and Outsmart, which are probably based on simple AI rules. There\\'s also information about how Ed operates with LLMs, including his company Nebula.io, which uses these models to help people discover their potential.\\n\\nWait, the content mentions \"connect four,\" but I think that\\'s a game where players connect pieces vertically or horizontally. Maybe it\\'s not related because Connect Four is a physical game and they don\\'t use LLMs in that context. Similarly, \"outsmart\" isn\\'t a familiar game name to me either.\\n\\nThe blog and newsletter are probably for keeping users informed about the company, their work with LLMs, and any news or announcements from the site. Since there\\'s no section mentioned about specific games or events besides Ed working with LLMs, maybe that\\'s just context.\\n\\nSo putting it all together, Edward Donner\\'s website seems to be related to using large language models in a competitive environment, likely for talent discovery or AI-driven discussions. The content provided gives some details on the structure of their platform and even includes an ed email address for subscribers, which is typical for newsletters and companies.\\n\\nI\\'m not entirely sure about all the specifics beyond what\\'s mentioned because there are parts I don\\'t recognize, like \"Connect Four\" and \"Outsmart.\" Maybe they were placeholders or examples. The key points seem to be Edward Donner working with LLMs in a competitive arena for talent, his company Nebula.io using these models for discovery, and Ed maintaining an online presence through his blog and newsletter.\\n\\nI should check if there are any other relevant links or mentions of specific events that could provide more context. The navigation menu has \"Connect Four,\" \"Outsmart,\" and the platform itself. Maybe those sections contain updates or news related to their LLM-based initiatives, but since they didn\\'t specify, I can only go off what\\'s provided.\\n\\nSo, in summary, Edward Donner\\'s website seems focused on using large language models in a competitive environment, possibly for managing talent or AI discussions. They have a blog and newsletter for subscribers, and the content mentions their company Nebula.io which applies LLMs to help people discover potential.\\n</think>\\n\\nEdward Donner\\'s website is centered around the innovative use of Large Language Models (LLMs) in a competitive arena aimed at fostering talent discovery and AI-driven discussions. The content highlights Edward Donner, co-founder of Nebula.io, who leverages these models for talent identification and management. \\n\\nKey points include:\\n- **Competitive Arena**: LLMs compete in games like Connect Four and Outsmart, though these seem to be placeholders.\\n- **Talent Discovery**: Nebula.io utilizes LLMs for discovering potential within organizations.\\n- **Company Overview**: Ed is the co-founder of Nebula.io, applying AI solutions that aid in talent management.\\n- **Online Presence**: The site features a blog and newsletter for subscribers, indicating a focus on educational content and updates.\\n\\nThe website\\'s structure and content provide insights into how large language models are integrated into competitive artificial intelligence contexts.'\n",
    "\n",
    "# Parse the HTML content\n",
    "soup = BeautifulSoup(html_content, 'html.parser')\n",
    "\n",
    "# Find and remove the <think> tag\n",
    "thinking_tag = soup.find('think')\n",
    "if thinking_tag:\n",
    "    thinking_tag.decompose()\n",
    "S\n",
    "# Print the modified HTML content\n",
    "print(soup.prettify())"
   ]
  },
  {
   "cell_type": "code",
   "execution_count": null,
   "id": "4d15b0a0-5790-47ca-b93e-3958f797eb20",
   "metadata": {},
   "outputs": [],
   "source": []
  }
 ],
 "metadata": {
  "kernelspec": {
   "display_name": "Python 3 (ipykernel)",
   "language": "python",
   "name": "python3"
  },
  "language_info": {
   "codemirror_mode": {
    "name": "ipython",
    "version": 3
   },
   "file_extension": ".py",
   "mimetype": "text/x-python",
   "name": "python",
   "nbconvert_exporter": "python",
   "pygments_lexer": "ipython3",
   "version": "3.11.11"
  }
 },
 "nbformat": 4,
 "nbformat_minor": 5
}
